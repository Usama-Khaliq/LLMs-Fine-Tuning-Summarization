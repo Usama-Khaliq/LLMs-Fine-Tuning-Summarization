{
 "cells": [
  {
   "cell_type": "code",
   "execution_count": 28,
   "id": "c7be3424",
   "metadata": {},
   "outputs": [],
   "source": [
    "text =\"In a study appearing today in Nature the team writes that they have detected changes in ocean color over the past two decades that cannot be explained by natural yeartoyear variability alone These color shifts though subtle to the human eye have occurred over 56 percent of the worlds oceans an expanse that is larger than the total land area on Earth In particular the researchers found that tropical ocean regions near the equator have become steadily greener over time The shift in ocean color indicates that ecosystems within the surface ocean must also be changing as the color of the ocean is a literal reflection of the organisms and materials in its waters At this point the researchers cannot say how exactly marine ecosystems are changing to reflect the shifting color But they are pretty sure of one thing Humaninduced climate change is likely the driver Ive been running simulations that have been telling me for years that these changes in ocean color are going to happen says study coauthor Stephanie Dutkiewicz senior research scientist in MITs Department of Earth Atmospheric and Planetary Sciences and the Center for Global Change Science To actually see it happening for real is not surprising but frightening And these changes are consistent with maninduced changes to our climate This gives additional evidence of how human activities are affecting life on Earth over a huge spatial extent adds lead author B B Cael PhD 19 of the National Oceanography Center in Southampton UK Its another way that humans are affecting the biosphere The studys coauthors also include Stephanie Henson of the National Oceanography Center Kelsey Bisson at Oregon State University and Emmanuel Boss of the University of Maine Above the noise The oceans color is a visual product of whatever lies within its upper layers Generally waters that are deep blue reflect very little life whereas greener waters indicate the presence of ecosystems and mainly phytoplankton plantlike microbes that are abundant in upper ocean and that contain the green pigment chlorophyll The pigment helps plankton harvest sunlight which they use to capture carbon dioxide from the atmosphere and convert it into sugars Phytoplankton are the foundation of the marine food web that sustains progressively more complex organisms on up to krill fish and seabirds and marine mammals Phytoplankton are also a powerful muscle in the oceans ability to capture and store carbon dioxide Scientists are therefore keen to monitor phytoplankton across the surface oceans and to see how these essential communities might respond to climate change To do so scientists have tracked changes in chlorophyll based on the ratio of how much blue versus green light is reflected from the ocean surface which can be monitored from space But around a decade ago Henson who is a coauthor of the current study published a paper with others which showed that if scientists were tracking chlorophyll alone it would take at least 30 years of continuous monitoring to detect any trend that was driven specifically by climate change The reason the team argued was that the large natural variations in chlorophyll from year to year would overwhelm any anthropogenic influence on chlorophyll concentrations It would therefore take several decades to pick out a meaningful climatechangedriven signal amid the normal noise In 2019 Dutkiewicz and her colleagues published a separate paper showing through a new model that the natural variation in other ocean colors is much smaller compared to that of chlorophyll Therefore any signal of climatechangedriven changes should be easier to detect over the smaller normal variations of other ocean colors They predicted that such changes should be apparent within 20 rather than 30 years of monitoring So I thought doesnt it make sense to look for a trend in all these other colors rather than in chlorophyll alone Cael says Its worth looking at the whole spectrum rather than just trying to estimate one number from bits of the spectrum The power of seven In the current study Cael and the team analyzed measurements of ocean color taken by the Moderate Resolution Imaging Spectroradiometer MODIS aboard the Aqua satellite which has been monitoring ocean color for 21 years MODIS takes measurements in seven visible wavelengths including the two colors researchers traditionally use to estimate chlorophyll The differences in color that the satellite picks up are too subtle for human eyes to differentiate Much of the ocean appears blue to our eye whereas the true color may contain a mix of subtler wavelengths from blue to green and even red Cael carried out a statistical analysis using all seven ocean colors measured by the satellite from 2002 to 2022 together He first looked at how much the seven colors changed from region to region during a given year which gave him an idea of their natural variations He then zoomed out to see how these annual variations in ocean color changed over a longer stretch of two decades This analysis turned up a clear trend above the normal yeartoyear variability To see whether this trend is related to climate change he then looked to Dutkiewiczs model from 2019 This model simulated the Earths oceans under two scenarios one with the addition of greenhouse gases and the other without it The greenhousegas model predicted that a significant trend should show up within 20 years and that this trend should cause changes to ocean color in about 50 percent of the worlds surface oceans almost exactly what Cael found in his analysis of realworld satellite data This suggests that the trends we observe are not a random variation in the Earth system Cael says This is consistent with anthropogenic climate change The teams results show that monitoring ocean colors beyond chlorophyll could give scientists a clearer faster way to detect climatechangedriven changes to marine ecosystems The color of the oceans has changed Dutkiewicz says And we cant say how But we can say that changes in color reflect changes in plankton communities that will impact everything that feeds on plankton It will also change how much the ocean will take up carbon because different types of plankton have different abilities to do that So we hope people take this seriously Its not only models that are predicting these changes will happen We can now see it happening and the ocean is changing\""
   ]
  },
  {
   "cell_type": "code",
   "execution_count": 29,
   "id": "5eb31b45",
   "metadata": {},
   "outputs": [
    {
     "name": "stdout",
     "output_type": "stream",
     "text": [
      "In a study appearing today in Nature the team writes that they have detected changes in ocean color over the past two decades that cannot be explained by natural yeartoyear variability alone These color shifts though subtle to the human eye have occurred over 56 percent of the worlds oceans an expanse that is larger than the total land area on Earth In particular the researchers found that tropical ocean regions near the equator have become steadily greener over time The shift in ocean color indicates that ecosystems within the surface ocean must also be changing as the color of the ocean is a literal reflection of the organisms and materials in its waters\n"
     ]
    }
   ],
   "source": [
    "from transformers import pipeline\n",
    "\n",
    "# Initialize the summarization pipeline\n",
    "summarizer = pipeline(\n",
    "    \"summarization\",\n",
    "    model=\"usakha/Pegasus_MedPaper_model\",\n",
    "    device=0,  # Use the first available GPU\n",
    ")\n",
    "\n",
    "# Set the maximum input length\n",
    "max_input_length = 1024\n",
    "# Set the maximum output length\n",
    "max_output_length = 128\n",
    "\n",
    "# Tokenize the input text with truncation and custom max_length\n",
    "tokens = summarizer.tokenizer(\n",
    "    text,\n",
    "    truncation=True,  # Truncate the input text if it exceeds max_length\n",
    "    max_length=max_input_length,  # Set the maximum input length\n",
    "    return_tensors=\"pt\",  # Return tensors in PyTorch format\n",
    ")\n",
    "\n",
    "# Move tokens to the GPU\n",
    "tokens = tokens.to(\"cuda:0\")\n",
    "\n",
    "# Check if the input length exceeds the model's supported length\n",
    "if tokens.input_ids.shape[1] > summarizer.model.config.max_position_embeddings:\n",
    "    raise ValueError(\n",
    "        f\"Input length ({tokens.input_ids.shape[1]}) exceeds the model's maximum supported length \"\n",
    "        f\"({summarizer.model.config.max_position_embeddings}). Please truncate the input text.\"\n",
    "    )\n",
    "\n",
    "# Generate the summary\n",
    "summary_ids = summarizer.model.generate(\n",
    "    input_ids=tokens[\"input_ids\"],\n",
    "    attention_mask=tokens[\"attention_mask\"],\n",
    "    num_beams=30,  # Set the number of beams for beam search\n",
    "    num_beam_groups=5,  # Set the number of beam groups for diverse beam search\n",
    "    diversity_penalty=0.5,  # Set the diversity penalty for diverse beam search\n",
    "    early_stopping=False,\n",
    "    max_length=max_output_length,  # Set the maximum output length\n",
    ")\n",
    "summary_text = summarizer.tokenizer.decode(summary_ids[0], skip_special_tokens=True)\n",
    "\n",
    "print(summary_text)"
   ]
  },
  {
   "cell_type": "code",
   "execution_count": 30,
   "id": "b415cb21",
   "metadata": {},
   "outputs": [],
   "source": [
    "text=\"What are the greatest future challenges for humanity This was the first question that Cosimo Della Santina assistant professor and PhD student Francesco Stella both from TU Delft and Josie Hughes from EPFL asked ChatGPT We wanted ChatGPT to design not just a robot but one that is actually useful says Della Santina In the end they chose food supply as their challenge and as they chatted with ChatGPT they came up with the idea of creating a tomatoharvesting robot Helpful suggestions The researchers followed all of ChatGPTs design decisions The input proved particularly valuable in the conceptual phase according to Stella ChatGPT extends the designers knowledge to other areas of expertise For example the chat robot taught us which crop would be most economically valuable to automate But ChatGPT also came up with useful suggestions during the implementation phase Make the gripper out of silicone or rubber to avoid crushing tomatoes and a Dynamixel motor is the best way to drive the robot The result of this partnership between humans and AI is a robotic arm that can harvest tomatoes ChatGPT as a researcher The researchers found the collaborative design process to be positive and enriching However we did find that our role as engineers shifted towards performing more technical tasks says Stella In Nature Machine Intelligence the researchers explore the varying degrees of cooperation between humans and Large Language Models LLM of which ChatGPT is one In the most extreme scenario AI provides all the input to the robot design and the human blindly follows it In this case the LLM acts as the researcher and engineer while the human acts as the manager in charge of specifying the design objectives Risk of misinformation Such an extreme scenario is not yet possible with todays LLMs And the question is whether it is desirable In fact LLM output can be misleading if it is not verified or validated AI bots are designed to generate the most probable answer to a question so there is a risk of misinformation and bias in the robotic field Della Santina says Working with LLMs also raises other important issues such as plagiarism traceability and intellectual property Della Santina Stella and Hughes will continue to use the tomatoharvesting robot in their research on robotics They are also continuing their study of LLMs to design new robots Specifically they are looking at the autonomy of AIs in designing their own bodies Ultimately an open question for the future of our field is how LLMs can be used to assist robot developers without limiting the creativity and innovation needed for robotics to rise to the challenges of the 21st century Stella concludes\""
   ]
  },
  {
   "cell_type": "code",
   "execution_count": 31,
   "id": "0f37af04",
   "metadata": {},
   "outputs": [
    {
     "name": "stdout",
     "output_type": "stream",
     "text": [
      "What are the greatest future challenges for humanity This was the first question that Cosimo Della Santina assistant professor and PhD student Francesco Stella both from TU Delft and Josie Hughes from EPFL asked ChatGPT We wanted ChatGPT to design not just a robot but one that is actually useful says Della Santina In the end they chose food supply as their challenge and as they chatted with ChatGPT they came up with the idea of creating a tomatoharvesting robot Helpful suggestions The input proved particularly valuable in the conceptual phase according to Stella ChatGPT extends the designers knowledge to other areas of expertise\n"
     ]
    }
   ],
   "source": [
    "from transformers import pipeline\n",
    "\n",
    "# Initialize the summarization pipeline\n",
    "summarizer = pipeline(\n",
    "    \"summarization\",\n",
    "    model=\"usakha/Pegasus_MedPaper_model\",\n",
    "    device=0,  # Use the first available GPU\n",
    ")\n",
    "\n",
    "# Set the maximum input length\n",
    "max_input_length = 1024\n",
    "# Set the maximum output length\n",
    "max_output_length = 128\n",
    "\n",
    "# Tokenize the input text with truncation and custom max_length\n",
    "tokens = summarizer.tokenizer(\n",
    "    text,\n",
    "    truncation=True,  # Truncate the input text if it exceeds max_length\n",
    "    max_length=max_input_length,  # Set the maximum input length\n",
    "    return_tensors=\"pt\",  # Return tensors in PyTorch format\n",
    ")\n",
    "\n",
    "# Move tokens to the GPU\n",
    "tokens = tokens.to(\"cuda:0\")\n",
    "\n",
    "# Check if the input length exceeds the model's supported length\n",
    "if tokens.input_ids.shape[1] > summarizer.model.config.max_position_embeddings:\n",
    "    raise ValueError(\n",
    "        f\"Input length ({tokens.input_ids.shape[1]}) exceeds the model's maximum supported length \"\n",
    "        f\"({summarizer.model.config.max_position_embeddings}). Please truncate the input text.\"\n",
    "    )\n",
    "\n",
    "# Generate the summary\n",
    "summary_ids = summarizer.model.generate(\n",
    "    input_ids=tokens[\"input_ids\"],\n",
    "    attention_mask=tokens[\"attention_mask\"],\n",
    "    num_beams=30,  # Set the number of beams for beam search\n",
    "    num_beam_groups=5,  # Set the number of beam groups for diverse beam search\n",
    "    diversity_penalty=0.5,  # Set the diversity penalty for diverse beam search\n",
    "    early_stopping=False,\n",
    "    max_length=max_output_length,  # Set the maximum output length\n",
    ")\n",
    "summary_text = summarizer.tokenizer.decode(summary_ids[0], skip_special_tokens=True)\n",
    "\n",
    "print(summary_text)"
   ]
  },
  {
   "cell_type": "code",
   "execution_count": 32,
   "id": "ffc070e0",
   "metadata": {},
   "outputs": [],
   "source": [
    "text=\"Now new findings from a team of sleep scientists at the University of California Berkeley are closer to an answer The researchers have uncovered a potential mechanism in humans that explains how and why deepsleep brain waves at night are able to regulate the bodys sensitivity to insulin which in turn improves blood sugar control the next day These synchronized brain waves act like a finger that flicks the first domino to start an associated chain reaction from the brain down to the heart and then out to alter the bodys regulation of blood sugar said Matthew Walker a UC Berkeley professor of neuroscience and psychology and senior author of the new study In particular the combination of two brain waves called sleep spindles and slow waves predict an increase in the bodys sensitivity to the hormone called insulin which consequentially and beneficially lowers blood glucose levels The researchers say this is an exciting advance because sleep is a modifiable lifestyle factor that could now be used as part of a therapeutic and painless adjunct treatment for those with high blood sugar or Type 2 diabetes Scientists also noted an additional benefit besides the potential new mechanistic pathway Beyond revealing a new mechanism our results also show that these deepsleep brain waves could be used as a sensitive marker of someones nextday blood sugar levels more so than traditional sleep metrics said Vyoma D Shah a researcher at Walkers Center for Human Sleep Science and coauthor of the study Adding to the therapeutic relevance of this new discovery the findings also suggest a novel noninvasive tool deepsleep brain waves for mapping and predicting someones blood sugar control The teams findings were published today in the journal Cell Reports Medicine For years researchers have studied how the coupling of nonrapid eye movement sleep spindles and deep slow brain waves corresponded to an entirely different function that of learning and memory Indeed the same team of UC Berkeley researchers previously found that deepsleep brain waves improved the ability of the hippocampus the part of the brain associated with learning to retain information But this new research builds on a 2021 rodent study and reveals a novel and previously unrecognized role for these combined brain waves in humans when it comes to the critical bodily function of blood sugar management The UC Berkeley researchers first examined sleep data in a group of 600 individuals They found that this particular coupled set of deepsleep brain waves predicted nextday glucose control even after controlling for other factors such as age gender and the duration and quality of sleep This particular coupling of deepsleep brain waves was more predictive of glucose than an individuals sleep duration or sleep efficiency said Raphael Vallat a UC Berkeley postdoctoral fellow and coauthor of the study That indicates there is something uniquely special about the electrophysiological quality and coordinated ballet of these brain oscillations during deep sleep Next the team then set out to explore the descending pathway that might explain the connection between these deepsleep brain waves sending a signal down into the body ultimately predicting the regulation of blood glucose The findings from the team reveal an unfolding set of steps that could help explain how and why these deepsleep brain waves are related to superior blood sugar control First they found that stronger and more frequent coupling of the deepsleep brain waves predicted a switch in the bodys nervous system state into the more quiescent and calming branch called the parasympathetic nervous system They measured that change in the body and the shift to this lowstress state using heart rate variability as a proxy Next the team turned its attention to the final step of blood sugar balance The researchers further discovered that this deep sleep switch to the calming branch of the nervous system further predicted an increased sensitivity of the body to the glucoseregulating hormone called insulin which instructs cells to absorb glucose from the bloodstream preventing a deleterious blood sugar spike Thats particularly important for people trying to back away from hyperglycemia and Type 2 diabetes In the electrical static of sleep at night there is a series of connected associations such that deepsleep brain waves telegraph a recalibration and calming of your nervous system the following day Walker said This rather marvelous associated soothing effect on your nervous system is then associated with a reboot of your bodys sensitivity to insulin resulting in a more effective control of blood sugar the next day The researchers subsequently replicated the same effects by examining a separate group of 1900 participants Once we replicated the findings in a different cohort I think we actually started to feel more confident in the results ourselves Walker said But Ill wait for others to replicate it before I truly start believing such is my British skepticism The scientists said the research is particularly exciting given the potential clinical significance years down the line Diabetes treatments already on the market can sometimes be difficult for patients to adhere to The same is true of the recommended lifestyle changes including different eating habits and regular exercise Sleep however is a largely painless experience for most people And while sleep is not going to be the single magic bullet the prospect of new technologies that can safely alter brain waves during deep sleep that this new research has uncovered may help people better manage their blood sugar That the research team said is reason for hope\""
   ]
  },
  {
   "cell_type": "code",
   "execution_count": 33,
   "id": "436f0f1f",
   "metadata": {},
   "outputs": [
    {
     "name": "stdout",
     "output_type": "stream",
     "text": [
      "Sleep is a modifiable lifestyle factor that could now be used as part of a therapeutic and painless adjunct treatment for those with high blood sugar or Type 2 diabetes Scientists also noted an additional benefit besides the potential new mechanistic pathway Beyond revealing a new mechanism our results also show that these deepsleep brain waves could be used as a sensitive marker of someones nextday blood sugar levels more so than traditional sleep metrics said Vyoma D Shah a researcher at Walkers Center for Human Sleep Science and coauthor of the study Adding to the therapeutic relevance of this new discovery the findings also suggest a novel noninvasive tool deepsleep brain waves for mapping and predicting someones blood\n"
     ]
    }
   ],
   "source": [
    "from transformers import pipeline\n",
    "\n",
    "# Initialize the summarization pipeline\n",
    "summarizer = pipeline(\n",
    "    \"summarization\",\n",
    "    model=\"usakha/Pegasus_MedPaper_model\",\n",
    "    device=0,  # Use the first available GPU\n",
    ")\n",
    "\n",
    "# Set the maximum input length\n",
    "max_input_length = 1024\n",
    "# Set the maximum output length\n",
    "max_output_length = 128\n",
    "\n",
    "# Tokenize the input text with truncation and custom max_length\n",
    "tokens = summarizer.tokenizer(\n",
    "    text,\n",
    "    truncation=True,  # Truncate the input text if it exceeds max_length\n",
    "    max_length=max_input_length,  # Set the maximum input length\n",
    "    return_tensors=\"pt\",  # Return tensors in PyTorch format\n",
    ")\n",
    "\n",
    "# Move tokens to the GPU\n",
    "tokens = tokens.to(\"cuda:0\")\n",
    "\n",
    "# Check if the input length exceeds the model's supported length\n",
    "if tokens.input_ids.shape[1] > summarizer.model.config.max_position_embeddings:\n",
    "    raise ValueError(\n",
    "        f\"Input length ({tokens.input_ids.shape[1]}) exceeds the model's maximum supported length \"\n",
    "        f\"({summarizer.model.config.max_position_embeddings}). Please truncate the input text.\"\n",
    "    )\n",
    "\n",
    "# Generate the summary\n",
    "summary_ids = summarizer.model.generate(\n",
    "    input_ids=tokens[\"input_ids\"],\n",
    "    attention_mask=tokens[\"attention_mask\"],\n",
    "    num_beams=30,  # Set the number of beams for beam search\n",
    "    num_beam_groups=5,  # Set the number of beam groups for diverse beam search\n",
    "    diversity_penalty=0.5,  # Set the diversity penalty for diverse beam search\n",
    "    early_stopping=False,\n",
    "    max_length=max_output_length,  # Set the maximum output length\n",
    ")\n",
    "summary_text = summarizer.tokenizer.decode(summary_ids[0], skip_special_tokens=True)\n",
    "\n",
    "print(summary_text)"
   ]
  },
  {
   "cell_type": "code",
   "execution_count": null,
   "id": "b3442d7d",
   "metadata": {},
   "outputs": [],
   "source": []
  }
 ],
 "metadata": {
  "kernelspec": {
   "display_name": "Python 3 (ipykernel)",
   "language": "python",
   "name": "python3"
  },
  "language_info": {
   "codemirror_mode": {
    "name": "ipython",
    "version": 3
   },
   "file_extension": ".py",
   "mimetype": "text/x-python",
   "name": "python",
   "nbconvert_exporter": "python",
   "pygments_lexer": "ipython3",
   "version": "3.11.3"
  }
 },
 "nbformat": 4,
 "nbformat_minor": 5
}

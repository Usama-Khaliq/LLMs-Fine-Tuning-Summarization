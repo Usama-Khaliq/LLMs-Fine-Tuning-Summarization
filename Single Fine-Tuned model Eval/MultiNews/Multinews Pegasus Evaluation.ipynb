{
 "cells": [
  {
   "cell_type": "code",
   "execution_count": 1,
   "id": "c7be3424",
   "metadata": {},
   "outputs": [],
   "source": [
    "text =\"Ukrainian officials are maintaining their customary ambiguity about the latest attack on the Kerch bridge but its location and strategic significance mean it was always likely to come under renewed assault With Kyivs counteroffensive aiming to deal a decisive blow to Russian forces occupying southern Ukraine the bridge is a key target There arent many ways for Moscow to reinforce its troops in Crimea and the southern Kherson region The Kerch bridge is one of the most important If the bridge is out of action even for a short time this will complicate Russias logistical challenges a key aspect of the early phase of Ukraines counteroffensive Last Octobers devastating explosion on the bridge which Russia blamed on a massive truck bomb organised by Ukrainian intelligence came as Ukraine was pressuring Russian forces to abandon the city of Kherson Now Kyiv wants to make life as difficult as possible for Russian forces occupying areas south of the Dnipro River Logistics hubs across the south have been repeatedly hit using longrange weapons supplied by Ukraines Western backers If as seems likely Kyiv was behind this latest attack on the Kerch bridge it should be seen in the context of Ukraines wider effort to liberate areas of the south occupied during last years fullscale Russian invasion Ukraines forces have retaken 18 sq km 7 sq miles over the past week in their fightback Ukraines deputy defence minister Hanna Maliar said on messaging app Telegram on Monday Those gains take the total area of reclaimed land to 210 sq km 81 sq miles since the counteroffensive began Ms Maliar also recently claimed that Kyivs forces had destroyed six Russian ammunition depots in the space of 24 hours a remark that hinted at Ukrainian tactics We inflict effective painful and precise blows and bleed the occupier for whom the lack of ammunition and fuel will sooner or later become fatal she said Beyond that Moscow knows that Kyiv would dearly love to take back the Crimean Peninsula invaded and annexed by Russia in 2014\""
   ]
  },
  {
   "cell_type": "code",
   "execution_count": 2,
   "id": "5eb31b45",
   "metadata": {},
   "outputs": [
    {
     "data": {
      "application/vnd.jupyter.widget-view+json": {
       "model_id": "7800484922ff491e9ca09b4bbef6b133",
       "version_major": 2,
       "version_minor": 0
      },
      "text/plain": [
       "Downloading (…)lve/main/config.json:   0%|          | 0.00/3.12k [00:00<?, ?B/s]"
      ]
     },
     "metadata": {},
     "output_type": "display_data"
    },
    {
     "data": {
      "application/vnd.jupyter.widget-view+json": {
       "model_id": "a8682244452740ddb5c05662c717f54a",
       "version_major": 2,
       "version_minor": 0
      },
      "text/plain": [
       "Downloading model.safetensors:   0%|          | 0.00/2.28G [00:00<?, ?B/s]"
      ]
     },
     "metadata": {},
     "output_type": "display_data"
    },
    {
     "data": {
      "application/vnd.jupyter.widget-view+json": {
       "model_id": "efa8a1587cd145498bf355fe3b73a7b4",
       "version_major": 2,
       "version_minor": 0
      },
      "text/plain": [
       "Downloading (…)okenizer_config.json:   0%|          | 0.00/1.98k [00:00<?, ?B/s]"
      ]
     },
     "metadata": {},
     "output_type": "display_data"
    },
    {
     "data": {
      "application/vnd.jupyter.widget-view+json": {
       "model_id": "94ded7df6e2c403ca910f88980e8d573",
       "version_major": 2,
       "version_minor": 0
      },
      "text/plain": [
       "Downloading spiece.model:   0%|          | 0.00/1.91M [00:00<?, ?B/s]"
      ]
     },
     "metadata": {},
     "output_type": "display_data"
    },
    {
     "data": {
      "application/vnd.jupyter.widget-view+json": {
       "model_id": "cf4db00f243d471993a1b4f6f9f41e89",
       "version_major": 2,
       "version_minor": 0
      },
      "text/plain": [
       "Downloading (…)/main/tokenizer.json:   0%|          | 0.00/6.60M [00:00<?, ?B/s]"
      ]
     },
     "metadata": {},
     "output_type": "display_data"
    },
    {
     "data": {
      "application/vnd.jupyter.widget-view+json": {
       "model_id": "1af7a2ee67644225ba3f39a664f2d101",
       "version_major": 2,
       "version_minor": 0
      },
      "text/plain": [
       "Downloading (…)cial_tokens_map.json:   0%|          | 0.00/1.77k [00:00<?, ?B/s]"
      ]
     },
     "metadata": {},
     "output_type": "display_data"
    },
    {
     "name": "stdout",
     "output_type": "stream",
     "text": [
      "– Ukrainian officials are maintaining their customary ambiguity about the latest attack on the Kerch bridge but its location and strategic significance mean it was always likely to come under renewed assault With Kyivs counteroffensive aiming to deal a decisive blow to Russian forces occupying southern Ukraine the bridge is a key target\n"
     ]
    }
   ],
   "source": [
    "from transformers import pipeline\n",
    "\n",
    "# Initialize the summarization pipeline\n",
    "summarizer = pipeline(\n",
    "    \"summarization\",\n",
    "    model=\"usakha/Pegasus_MultiNews_model\",\n",
    "    device=0,  # Use the first available GPU\n",
    ")\n",
    "\n",
    "# Set the maximum input length\n",
    "max_input_length = 1024\n",
    "# Set the maximum output length\n",
    "max_output_length = 128\n",
    "\n",
    "# Tokenize the input text with truncation and custom max_length\n",
    "tokens = summarizer.tokenizer(\n",
    "    text,\n",
    "    truncation=True,  # Truncate the input text if it exceeds max_length\n",
    "    max_length=max_input_length,  # Set the maximum input length\n",
    "    return_tensors=\"pt\",  # Return tensors in PyTorch format\n",
    ")\n",
    "\n",
    "# Move tokens to the GPU\n",
    "tokens = tokens.to(\"cuda:0\")\n",
    "\n",
    "# Check if the input length exceeds the model's supported length\n",
    "if tokens.input_ids.shape[1] > summarizer.model.config.max_position_embeddings:\n",
    "    raise ValueError(\n",
    "        f\"Input length ({tokens.input_ids.shape[1]}) exceeds the model's maximum supported length \"\n",
    "        f\"({summarizer.model.config.max_position_embeddings}). Please truncate the input text.\"\n",
    "    )\n",
    "\n",
    "# Generate the summary\n",
    "summary_ids = summarizer.model.generate(\n",
    "    input_ids=tokens[\"input_ids\"],\n",
    "    attention_mask=tokens[\"attention_mask\"],\n",
    "    num_beams=30,  # Set the number of beams for beam search\n",
    "    num_beam_groups=5,  # Set the number of beam groups for diverse beam search\n",
    "    diversity_penalty=0.5,  # Set the diversity penalty for diverse beam search\n",
    "    early_stopping=False,\n",
    "    max_length=max_output_length,  # Set the maximum output length\n",
    ")\n",
    "summary_text = summarizer.tokenizer.decode(summary_ids[0], skip_special_tokens=True)\n",
    "\n",
    "print(summary_text)"
   ]
  },
  {
   "cell_type": "code",
   "execution_count": 3,
   "id": "b415cb21",
   "metadata": {},
   "outputs": [],
   "source": [
    "text=\"As hundreds of rescue workers comb the muddied waters of a South Korean underpass the stagnant rainwater once up to the ceiling now only covers their knees They will not give up There is one person still missing Its been more than 48 hours since extreme rainfall caused a riverbank to break and water suddenly and forcefully filled the major underpass stopping vehicles dead Thirteen bodies have so far been brought out of the tunnel in the central mountainous region of Chongju Rescuers have CCTV footage of a terrified missing driver trying to escape their submerged car but there is no sign of their body yet As they search on another car is winched out its back window smashed out by the force of the water This scene akin to one from a horror film is a wake up call for South Korea Climate change is starting to take its toll on this country that until recently has been spared some of the extreme weather events experienced by other hotter countries But only halfway through its monsoon season and it has already received more than the total amount of rainfall typical for the period South Korean President Yoon Suk Yeol has said he will completely overhaul the countrys approach to extreme weather as these events will become more commonplace We must accept climate change is happening and deal with it Mr Yoon said Song Duho tries to process the damage that surrounds him in Edam a tiny farming village in South Korea IMAGE SOURCEHOSU LEEBBC Image caption Song Duho tries to process the damage that surrounds him in Edam a tiny farming village An hour away in the tiny farming village of Edam 87yearold Song Duho sits on his doorstep with his eyes closed as he tries to process the damage that surrounds him Inside his modest onestory home the floors have been ripped up and his waterlogged belongings are stacked up to the ceiling Much of what he owns now litters his garden including broken bookcases and electrical appliances Two soldiers are breaking them down into pieces so they can dispose of them using a wheelbarrow Mr Song jumps up Hey Dont throw away the metal Im going to sell the metal throw away the rest he shouts at them The rice and bean farmers home was flooded after Saturdays torrential rain overwhelmed the dam that normally protects his rural village in North Chungcheong province in South Korea The water was up to his waist by the time rescue workers came for him in the middle of the night along with his wife who struggles with a bad back I would be lying if I said I wasnt scared when the water was coming in I could have died he says Mr Song is dazed Hes lived in Edam for 40 years and says he is well acclimatised to South Koreas monsoon season which runs from the end of June to the beginning of August But he says he has never experienced rain like that which fell this weekend causing river to swell and land to slide down the dense mountainous terrain burying homes and killing dozens Mr Song knows it will take an awful lot of work to fix his place up and it is probably beyond his capabilities Im almost 90 he says in despair What am I to do where am I to go We older people die where we live Han Chang Rae washes her mudcaked belongings with water in Eham a tiny fishing village in South Korea IMAGE SOURCEHOSU LEEBBC Image caption Han Chang Rae washes her mudcaked belongings with water Next door 74year old Han Chang Rae is squatting in the middle of her mud filled courtyard dumping the contents of her now defunct fridge into bin bags Even the mounds of kimchi and other pickled vegetables cannot be saved on this baking humid day Her chequered visor prevents the sweat from dripping down her face as she motors around barely taking the time to look up I have so much to do she says in anguish In contrast to Mr Song Ms Han only moved in 15 days ago and is now binning belongings that never made it out of the box She too is bewildered Im 74 and have never experienced this kind of disaster she says I dont know what to feel I feel nothing Im just lucky I didnt die South Koreans are less used to dealing with the effects of the warming planet and with more extreme rainfall forecast for Tuesday danger still looms For those in the farming village of Edam the monsoon season is now no longer a routine part of summer but something to fear\""
   ]
  },
  {
   "cell_type": "code",
   "execution_count": 4,
   "id": "0f37af04",
   "metadata": {},
   "outputs": [
    {
     "name": "stdout",
     "output_type": "stream",
     "text": [
      "– As hundreds of rescue workers comb the muddied waters of a South Korean underpass the stagnant rainwater once up to the ceiling now only covers their knees. It's been more than 48 hours since extreme rainfall caused a riverbank to break and water suddenly filled the major underpass stopping vehicles dead bodies have so far been brought out of the tunnel in the central mountainous region of Chongju Rescuers have CCTV footage of a terrified driver trying to escape their submerged car but there is no sign of their body yet As they search on another car is winched out its back window smashed out by the force of the water\n"
     ]
    }
   ],
   "source": [
    "from transformers import pipeline\n",
    "\n",
    "# Initialize the summarization pipeline\n",
    "summarizer = pipeline(\n",
    "    \"summarization\",\n",
    "    model=\"usakha/Pegasus_MultiNews_model\",\n",
    "    device=0,  # Use the first available GPU\n",
    ")\n",
    "\n",
    "# Set the maximum input length\n",
    "max_input_length = 1024\n",
    "# Set the maximum output length\n",
    "max_output_length = 128\n",
    "\n",
    "# Tokenize the input text with truncation and custom max_length\n",
    "tokens = summarizer.tokenizer(\n",
    "    text,\n",
    "    truncation=True,  # Truncate the input text if it exceeds max_length\n",
    "    max_length=max_input_length,  # Set the maximum input length\n",
    "    return_tensors=\"pt\",  # Return tensors in PyTorch format\n",
    ")\n",
    "\n",
    "# Move tokens to the GPU\n",
    "tokens = tokens.to(\"cuda:0\")\n",
    "\n",
    "# Check if the input length exceeds the model's supported length\n",
    "if tokens.input_ids.shape[1] > summarizer.model.config.max_position_embeddings:\n",
    "    raise ValueError(\n",
    "        f\"Input length ({tokens.input_ids.shape[1]}) exceeds the model's maximum supported length \"\n",
    "        f\"({summarizer.model.config.max_position_embeddings}). Please truncate the input text.\"\n",
    "    )\n",
    "\n",
    "# Generate the summary\n",
    "summary_ids = summarizer.model.generate(\n",
    "    input_ids=tokens[\"input_ids\"],\n",
    "    attention_mask=tokens[\"attention_mask\"],\n",
    "    num_beams=30,  # Set the number of beams for beam search\n",
    "    num_beam_groups=5,  # Set the number of beam groups for diverse beam search\n",
    "    diversity_penalty=0.5,  # Set the diversity penalty for diverse beam search\n",
    "    early_stopping=False,\n",
    "    max_length=max_output_length,  # Set the maximum output length\n",
    ")\n",
    "summary_text = summarizer.tokenizer.decode(summary_ids[0], skip_special_tokens=True)\n",
    "\n",
    "print(summary_text)"
   ]
  },
  {
   "cell_type": "code",
   "execution_count": 5,
   "id": "ffc070e0",
   "metadata": {},
   "outputs": [],
   "source": [
    "text=\"Extreme weather is becoming more frequent and more intense in many places because of climate change Scientists say this will continue whilst humans keep releasing planetwarming greenhouse gases Here are four ways climate change is linked to extreme weather 1 Hotter longer heatwaves Even a small increase to average temperatures makes a big difference This is because the whole distribution of daily temperatures shifts to warmer levels making hotter days more likely and more extreme A small shift makes a big difference A line chart showing how small changes in the climate increases the probability of more hot weather and more extreme weather Scientists use computer simulations to judge whether extreme weather events have been made more likely by warming caused by humans For example a recordbreaking heatwave across Spain Portugal and northwest Africa in April was made at least 100 times more likely by climate change according to the World Weather Attribution network WWA Its too early to say for certain whether the ongoing July 2023 heatwaves across parts of Europe southwest US and China have been made significantly more likely by climate change But experts say these types of events are consistent with what is expected in a warming world particularly when combined with natural weather patterns like high pressure systems and El Nio In the UK temperatures topped 40C for the first time on record in July 2022 This would have been extremely unlikely without climate change the WWA says Why is it so hot in the UK Is the UK getting hotter Heatwaves are also becoming longer and more intense including in the UK This can happen through heat domes an area of high pressure where hot air is pushed down and trapped in place causing temperatures to soar over large areas One theory suggests higher temperatures in the Arctic which has warmed more than four times faster than the global average are causing strong winds called the jet stream to slow and increasing the likelihood of heat domes A graphic showing how heat domes are formed 1 A mass of warm air builds up in still and dry summer conditions 2 High pressure in the atmosphere pressures the warm air down 3 The air is compressed and gets even hotter Life at 50 degrees 2 Longer droughts Linking climate change and individual droughts can be difficult The availability of water is not just down to temperature and rainfall But longer and more intense heatwaves can worsen droughts by drying out soils The air above then warms up faster leading to more intense heat Demand for water from humans and farming in hot weather puts even more stress on the water supply In parts of East Africa an ongoing drought has left more than 20 million people at risk of being dangerously short of food Climate change made this drought more than 100 times more likely according to the WWA A man walks in front of a sandstorm in Dollow southwest Somalia People from across Gedo in Somalia have been displaced due to drought 14 April 2022 IMAGE SOURCEGETTY IMAGES Image caption Drought in Somalia the country has suffered five failed rainy seasons in a row 3 More fuel for wildfires Wildfires happen naturally in many parts of the world Its difficult to know if climate change has caused a wildfire because other factors like changes to land use can be involved Some regions such as the western US have seen an increase in the area burnt by wildfires but global wildfire trends are complex However scientists say climate change is making the weather conditions needed for wildfires more likely Extreme and longlasting heat draws more and more moisture out of the ground and vegetation Firefighters and police evacuate a person in a wheelchair after a forest fire approached his house in Ninhue uble Region in Chile on February 10 2023 Forest fires raged for more than a week in southcentral Chile leaving at least 24 people dead IMAGE SOURCEJAVIER TORRESAFP Image caption Dozens of people died and were evacuated in Chile as wildfires burned across the country These tinderdry conditions provide fuel for fires which can spread at an incredible speed particularly if winds are strong Alberta in Canada has seen unprecedented wildfires forcing nearly 30000 people to leave their homes This follows severe wildfires in Chile and Australia earlier in 2023 Scientists expect wildfires to become more frequent and intense in future due to the combined effects of land use and climate change Then and now The burning issue of wildfires How do wildfires start 4 More extreme rain The warmer it becomes the more moisture the atmosphere can hold This results in more droplets and heavier rainfall sometimes in a shorter space of time and over a smaller area A chart showing how record temperatures cause extreme rainfall 1 More heat from sun causes greater evaporation 2 More moisture forms clouds 3 Heavier rain In 2022 Pakistan experienced its wettest July and August on record triggering devastating floods affecting more than 33 million people It is likely that climate change played a role according to the WWA but natural weather patterns like the monsoon may have been involved too How do El Nio and La Nia change the weather Extreme rainfall and flooding has also hit other regions including West Africa between May and October 2022 and New Zealand in February 2023 Scientists cannot say for certain that they were caused by climate change but the floods are consistent with the changes they expect in a warming world\""
   ]
  },
  {
   "cell_type": "code",
   "execution_count": 6,
   "id": "436f0f1f",
   "metadata": {},
   "outputs": [
    {
     "name": "stdout",
     "output_type": "stream",
     "text": [
      "– Extreme weather is becoming more frequent and more intense in many places because of climate change scientists say this will continue whilst humans keep releasing planet-warming greenhouse gases. Extreme weather is becoming more frequent and more intense in many places because of climate change scientists say this will continue whilst humans keep releasing planet-warming greenhouse gases. Extreme weather is becoming more frequent and more intense in many places because of climate change scientists say this will continue whilst humans keep releasing planet-warming greenhouse gases. Extreme weather is becoming more frequent and more intense in many places because of climate change\n"
     ]
    }
   ],
   "source": [
    "from transformers import pipeline\n",
    "\n",
    "# Initialize the summarization pipeline\n",
    "summarizer = pipeline(\n",
    "    \"summarization\",\n",
    "    model=\"usakha/Pegasus_MultiNews_model\",\n",
    "    device=0,  # Use the first available GPU\n",
    ")\n",
    "\n",
    "# Set the maximum input length\n",
    "max_input_length = 1024\n",
    "# Set the maximum output length\n",
    "max_output_length = 128\n",
    "\n",
    "# Tokenize the input text with truncation and custom max_length\n",
    "tokens = summarizer.tokenizer(\n",
    "    text,\n",
    "    truncation=True,  # Truncate the input text if it exceeds max_length\n",
    "    max_length=max_input_length,  # Set the maximum input length\n",
    "    return_tensors=\"pt\",  # Return tensors in PyTorch format\n",
    ")\n",
    "\n",
    "# Move tokens to the GPU\n",
    "tokens = tokens.to(\"cuda:0\")\n",
    "\n",
    "# Check if the input length exceeds the model's supported length\n",
    "if tokens.input_ids.shape[1] > summarizer.model.config.max_position_embeddings:\n",
    "    raise ValueError(\n",
    "        f\"Input length ({tokens.input_ids.shape[1]}) exceeds the model's maximum supported length \"\n",
    "        f\"({summarizer.model.config.max_position_embeddings}). Please truncate the input text.\"\n",
    "    )\n",
    "\n",
    "# Generate the summary\n",
    "summary_ids = summarizer.model.generate(\n",
    "    input_ids=tokens[\"input_ids\"],\n",
    "    attention_mask=tokens[\"attention_mask\"],\n",
    "    num_beams=30,  # Set the number of beams for beam search\n",
    "    num_beam_groups=5,  # Set the number of beam groups for diverse beam search\n",
    "    diversity_penalty=0.5,  # Set the diversity penalty for diverse beam search\n",
    "    early_stopping=False,\n",
    "    max_length=max_output_length,  # Set the maximum output length\n",
    ")\n",
    "summary_text = summarizer.tokenizer.decode(summary_ids[0], skip_special_tokens=True)\n",
    "\n",
    "print(summary_text)"
   ]
  },
  {
   "cell_type": "code",
   "execution_count": null,
   "id": "b3442d7d",
   "metadata": {},
   "outputs": [],
   "source": []
  }
 ],
 "metadata": {
  "kernelspec": {
   "display_name": "Python 3 (ipykernel)",
   "language": "python",
   "name": "python3"
  },
  "language_info": {
   "codemirror_mode": {
    "name": "ipython",
    "version": 3
   },
   "file_extension": ".py",
   "mimetype": "text/x-python",
   "name": "python",
   "nbconvert_exporter": "python",
   "pygments_lexer": "ipython3",
   "version": "3.11.3"
  }
 },
 "nbformat": 4,
 "nbformat_minor": 5
}

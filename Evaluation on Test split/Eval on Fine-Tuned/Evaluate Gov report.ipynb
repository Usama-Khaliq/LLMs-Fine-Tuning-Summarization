{
 "cells": [
  {
   "cell_type": "code",
   "execution_count": null,
   "id": "24ca9b9d",
   "metadata": {},
   "outputs": [],
   "source": [
    "!pip install transformers\n",
    "!pip install datasets\n",
    "!pip install rouge-score\n",
    "!pip install nltk\n",
    "!pip install tqdm"
   ]
  },
  {
   "cell_type": "code",
   "execution_count": 1,
   "id": "9364cf87",
   "metadata": {},
   "outputs": [
    {
     "name": "stderr",
     "output_type": "stream",
     "text": [
      "No config specified, defaulting to: govreport-summarization/document\n",
      "Found cached dataset govreport-summarization (/root/.cache/huggingface/datasets/ccdv___govreport-summarization/document/1.0.0/57ca3042de9c40c218cc94084cbc80a99a161036134bfc88112c57d251443590)\n",
      "Processing batches: 100%|██████████| 38/38 [08:50<00:00, 13.95s/it]\n"
     ]
    },
    {
     "name": "stdout",
     "output_type": "stream",
     "text": [
      "ROUGE-1: 0.2245\n",
      "ROUGE-2: 0.0957\n",
      "ROUGE-L: 0.1401\n",
      "BLEU: 0.0021\n"
     ]
    }
   ],
   "source": [
    "import torch\n",
    "from transformers import BartForConditionalGeneration, BartTokenizer\n",
    "from datasets import load_dataset\n",
    "from rouge_score import rouge_scorer\n",
    "from nltk.translate.bleu_score import corpus_bleu\n",
    "from tqdm import tqdm\n",
    "\n",
    "# Check if a GPU is available and set the device\n",
    "device = torch.device(\"cuda\" if torch.cuda.is_available() else \"cpu\")\n",
    "\n",
    "# Load the model and tokenizer\n",
    "model_name = \"usakha/Bart_GovReport_model\"\n",
    "tokenizer = BartTokenizer.from_pretrained(model_name)\n",
    "model = BartForConditionalGeneration.from_pretrained(model_name).to(device)\n",
    "\n",
    "# Load the dataset from the Hugging Face Hub\n",
    "dataset_name = \"ccdv/govreport-summarization\"\n",
    "dataset = load_dataset(dataset_name, split=\"test\")\n",
    "\n",
    "source_texts = [example[\"report\"] for example in dataset]\n",
    "target_texts = [example[\"summary\"] for example in dataset]\n",
    "\n",
    "# Summarize and calculate scores using batch processing\n",
    "rouge_scorer = rouge_scorer.RougeScorer([\"rouge1\", \"rouge2\", \"rougeL\"], use_stemmer=True)\n",
    "rouge_scores = []\n",
    "bleu_references = []\n",
    "bleu_hypotheses = []\n",
    "\n",
    "batch_size = 25\n",
    "num_batches = len(source_texts) // batch_size\n",
    "\n",
    "for i in tqdm(range(num_batches), desc=\"Processing batches\"):\n",
    "    start = i * batch_size\n",
    "    end = start + batch_size\n",
    "    batch_sources = source_texts[start:end]\n",
    "    batch_targets = target_texts[start:end]\n",
    "\n",
    "    inputs = tokenizer(batch_sources, return_tensors=\"pt\", padding=True, truncation=True).to(device)\n",
    "    summary_ids = model.generate(inputs[\"input_ids\"], num_beams=8, max_length=250, early_stopping=True)\n",
    "    summaries = [tokenizer.decode(summary_id, skip_special_tokens=True) for summary_id in summary_ids]\n",
    "\n",
    "    for target, summary in zip(batch_targets, summaries):\n",
    "        rouge_scores.append(rouge_scorer.score(target, summary))\n",
    "        bleu_references.append([target.split()])\n",
    "        bleu_hypotheses.append(summary.split())\n",
    "\n",
    "rouge1_avg = sum(score[\"rouge1\"].fmeasure for score in rouge_scores) / len(rouge_scores)\n",
    "rouge2_avg = sum(score[\"rouge2\"].fmeasure for score in rouge_scores) / len(rouge_scores)\n",
    "rougeL_avg = sum(score[\"rougeL\"].fmeasure for score in rouge_scores) / len(rouge_scores)\n",
    "bleu_score = corpus_bleu(bleu_references, bleu_hypotheses)\n",
    "\n",
    "print(f\"ROUGE-1: {rouge1_avg:.4f}\")\n",
    "print(f\"ROUGE-2: {rouge2_avg:.4f}\")\n",
    "print(f\"ROUGE-L: {rougeL_avg:.4f}\")\n",
    "print(f\"BLEU: {bleu_score:.4f}\")"
   ]
  },
  {
   "cell_type": "code",
   "execution_count": 2,
   "id": "3e74eb67",
   "metadata": {},
   "outputs": [
    {
     "data": {
      "application/vnd.jupyter.widget-view+json": {
       "model_id": "0ac02459e299431f92ffa306cfc94df6",
       "version_major": 2,
       "version_minor": 0
      },
      "text/plain": [
       "Downloading spiece.model:   0%|          | 0.00/1.91M [00:00<?, ?B/s]"
      ]
     },
     "metadata": {},
     "output_type": "display_data"
    },
    {
     "data": {
      "application/vnd.jupyter.widget-view+json": {
       "model_id": "4a62b96cbbdc458ab65a144b9ca25bef",
       "version_major": 2,
       "version_minor": 0
      },
      "text/plain": [
       "Downloading (…)cial_tokens_map.json:   0%|          | 0.00/1.77k [00:00<?, ?B/s]"
      ]
     },
     "metadata": {},
     "output_type": "display_data"
    },
    {
     "data": {
      "application/vnd.jupyter.widget-view+json": {
       "model_id": "fbc0cb23661f47f18c810a65828421ed",
       "version_major": 2,
       "version_minor": 0
      },
      "text/plain": [
       "Downloading (…)okenizer_config.json:   0%|          | 0.00/1.98k [00:00<?, ?B/s]"
      ]
     },
     "metadata": {},
     "output_type": "display_data"
    },
    {
     "data": {
      "application/vnd.jupyter.widget-view+json": {
       "model_id": "da95a838e8194666bb66ce1c5f0c31f7",
       "version_major": 2,
       "version_minor": 0
      },
      "text/plain": [
       "Downloading (…)lve/main/config.json:   0%|          | 0.00/3.12k [00:00<?, ?B/s]"
      ]
     },
     "metadata": {},
     "output_type": "display_data"
    },
    {
     "data": {
      "application/vnd.jupyter.widget-view+json": {
       "model_id": "7fa1212126d943468a738c8bcc2bd4b9",
       "version_major": 2,
       "version_minor": 0
      },
      "text/plain": [
       "Downloading model.safetensors:   0%|          | 0.00/2.28G [00:00<?, ?B/s]"
      ]
     },
     "metadata": {},
     "output_type": "display_data"
    },
    {
     "name": "stderr",
     "output_type": "stream",
     "text": [
      "WARNING:datasets.builder:No config specified, defaulting to: govreport-summarization/document\n",
      "WARNING:datasets.builder:Found cached dataset govreport-summarization (/root/.cache/huggingface/datasets/ccdv___govreport-summarization/document/1.0.0/57ca3042de9c40c218cc94084cbc80a99a161036134bfc88112c57d251443590)\n",
      "Processing batches: 100%|██████████| 38/38 [12:19<00:00, 19.47s/it]\n"
     ]
    },
    {
     "name": "stdout",
     "output_type": "stream",
     "text": [
      "ROUGE-1: 0.2529\n",
      "ROUGE-2: 0.1000\n",
      "ROUGE-L: 0.1556\n",
      "BLEU: 0.0068\n"
     ]
    }
   ],
   "source": [
    "import torch\n",
    "from transformers import PegasusForConditionalGeneration, PegasusTokenizer\n",
    "from datasets import load_dataset\n",
    "from rouge_score import rouge_scorer\n",
    "from nltk.translate.bleu_score import corpus_bleu\n",
    "from tqdm import tqdm\n",
    "\n",
    "# Check if a GPU is available and set the device\n",
    "device = torch.device(\"cuda\" if torch.cuda.is_available() else \"cpu\")\n",
    "\n",
    "# Load the model and tokenizer\n",
    "model_name = \"usakha/Pegasus_GovReport_model\"\n",
    "tokenizer = PegasusTokenizer.from_pretrained(model_name)\n",
    "model = PegasusForConditionalGeneration.from_pretrained(model_name).to(device)\n",
    "\n",
    "# Load the dataset from the Hugging Face Hub\n",
    "dataset_name = \"ccdv/govreport-summarization\"\n",
    "dataset = load_dataset(dataset_name, split=\"test\")\n",
    "\n",
    "source_texts = [example[\"report\"] for example in dataset]\n",
    "target_texts = [example[\"summary\"] for example in dataset]\n",
    "\n",
    "# Summarize and calculate scores using batch processing\n",
    "rouge_scorer = rouge_scorer.RougeScorer([\"rouge1\", \"rouge2\", \"rougeL\"], use_stemmer=True)\n",
    "rouge_scores = []\n",
    "bleu_references = []\n",
    "bleu_hypotheses = []\n",
    "\n",
    "batch_size = 25\n",
    "num_batches = len(source_texts) // batch_size\n",
    "\n",
    "for i in tqdm(range(num_batches), desc=\"Processing batches\"):\n",
    "    start = i * batch_size\n",
    "    end = start + batch_size\n",
    "    batch_sources = source_texts[start:end]\n",
    "    batch_targets = target_texts[start:end]\n",
    "\n",
    "    inputs = tokenizer(batch_sources, return_tensors=\"pt\", padding=True, truncation=True).to(device)\n",
    "    summary_ids = model.generate(inputs[\"input_ids\"], num_beams=8, max_length=250, early_stopping=True)\n",
    "    summaries = [tokenizer.decode(summary_id, skip_special_tokens=True) for summary_id in summary_ids]\n",
    "\n",
    "    for target, summary in zip(batch_targets, summaries):\n",
    "        rouge_scores.append(rouge_scorer.score(target, summary))\n",
    "        bleu_references.append([target.split()])\n",
    "        bleu_hypotheses.append(summary.split())\n",
    "\n",
    "rouge1_avg = sum(score[\"rouge1\"].fmeasure for score in rouge_scores) / len(rouge_scores)\n",
    "rouge2_avg = sum(score[\"rouge2\"].fmeasure for score in rouge_scores) / len(rouge_scores)\n",
    "rougeL_avg = sum(score[\"rougeL\"].fmeasure for score in rouge_scores) / len(rouge_scores)\n",
    "bleu_score = corpus_bleu(bleu_references, bleu_hypotheses)\n",
    "\n",
    "print(f\"ROUGE-1: {rouge1_avg:.4f}\")\n",
    "print(f\"ROUGE-2: {rouge2_avg:.4f}\")\n",
    "print(f\"ROUGE-L: {rougeL_avg:.4f}\")\n",
    "print(f\"BLEU: {bleu_score:.4f}\")"
   ]
  },
  {
   "cell_type": "code",
   "execution_count": 3,
   "id": "eb8c108b",
   "metadata": {},
   "outputs": [
    {
     "data": {
      "application/vnd.jupyter.widget-view+json": {
       "model_id": "b4d21f5e43d0415ab00534d5944b4e38",
       "version_major": 2,
       "version_minor": 0
      },
      "text/plain": [
       "Downloading (…)prophetnet.tokenizer:   0%|          | 0.00/232k [00:00<?, ?B/s]"
      ]
     },
     "metadata": {},
     "output_type": "display_data"
    },
    {
     "data": {
      "application/vnd.jupyter.widget-view+json": {
       "model_id": "cdbe8b33d4844ce9a5e7db52ffbe29c6",
       "version_major": 2,
       "version_minor": 0
      },
      "text/plain": [
       "Downloading (…)cial_tokens_map.json:   0%|          | 0.00/101 [00:00<?, ?B/s]"
      ]
     },
     "metadata": {},
     "output_type": "display_data"
    },
    {
     "data": {
      "application/vnd.jupyter.widget-view+json": {
       "model_id": "909c5c7c81724e69a5753fea0ca64b38",
       "version_major": 2,
       "version_minor": 0
      },
      "text/plain": [
       "Downloading (…)okenizer_config.json:   0%|          | 0.00/376 [00:00<?, ?B/s]"
      ]
     },
     "metadata": {},
     "output_type": "display_data"
    },
    {
     "data": {
      "application/vnd.jupyter.widget-view+json": {
       "model_id": "56a811a91d914ef398566d35ca05b9d5",
       "version_major": 2,
       "version_minor": 0
      },
      "text/plain": [
       "Downloading (…)lve/main/config.json:   0%|          | 0.00/1.54k [00:00<?, ?B/s]"
      ]
     },
     "metadata": {},
     "output_type": "display_data"
    },
    {
     "data": {
      "application/vnd.jupyter.widget-view+json": {
       "model_id": "e5f5096e7b4e4f0f8a040f39636cbd54",
       "version_major": 2,
       "version_minor": 0
      },
      "text/plain": [
       "Downloading pytorch_model.bin:   0%|          | 0.00/1.57G [00:00<?, ?B/s]"
      ]
     },
     "metadata": {},
     "output_type": "display_data"
    },
    {
     "name": "stderr",
     "output_type": "stream",
     "text": [
      "WARNING:datasets.builder:No config specified, defaulting to: govreport-summarization/document\n",
      "WARNING:datasets.builder:Found cached dataset govreport-summarization (/root/.cache/huggingface/datasets/ccdv___govreport-summarization/document/1.0.0/57ca3042de9c40c218cc94084cbc80a99a161036134bfc88112c57d251443590)\n",
      "Processing batches: 100%|██████████| 38/38 [42:58<00:00, 67.85s/it]\n"
     ]
    },
    {
     "name": "stdout",
     "output_type": "stream",
     "text": [
      "ROUGE-1: 0.3255\n",
      "ROUGE-2: 0.1303\n",
      "ROUGE-L: 0.1767\n",
      "BLEU: 0.0152\n"
     ]
    }
   ],
   "source": [
    "import torch\n",
    "from transformers import ProphetNetForConditionalGeneration, ProphetNetTokenizer\n",
    "from datasets import load_dataset\n",
    "from rouge_score import rouge_scorer\n",
    "from nltk.translate.bleu_score import corpus_bleu\n",
    "from tqdm import tqdm\n",
    "\n",
    "# Check if a GPU is available and set the device\n",
    "device = torch.device(\"cuda\" if torch.cuda.is_available() else \"cpu\")\n",
    "\n",
    "# Load the model and tokenizer\n",
    "model_name = \"usakha/Prophetnet_GovReport_model\"\n",
    "tokenizer = ProphetNetTokenizer.from_pretrained(model_name)\n",
    "model = ProphetNetForConditionalGeneration.from_pretrained(model_name).to(device)\n",
    "\n",
    "# Load the dataset from the Hugging Face Hub\n",
    "dataset_name = \"ccdv/govreport-summarization\"\n",
    "dataset = load_dataset(dataset_name, split=\"test\")\n",
    "\n",
    "source_texts = [example[\"report\"] for example in dataset]\n",
    "target_texts = [example[\"summary\"] for example in dataset]\n",
    "\n",
    "# Summarize and calculate scores using batch processing\n",
    "rouge_scorer = rouge_scorer.RougeScorer([\"rouge1\", \"rouge2\", \"rougeL\"], use_stemmer=True)\n",
    "rouge_scores = []\n",
    "bleu_references = []\n",
    "bleu_hypotheses = []\n",
    "\n",
    "batch_size = 25\n",
    "num_batches = len(source_texts) // batch_size\n",
    "\n",
    "for i in tqdm(range(num_batches), desc=\"Processing batches\"):\n",
    "    start = i * batch_size\n",
    "    end = start + batch_size\n",
    "    batch_sources = source_texts[start:end]\n",
    "    batch_targets = target_texts[start:end]\n",
    "\n",
    "    inputs = tokenizer(batch_sources, return_tensors=\"pt\", padding=True, truncation=True).to(device)\n",
    "    summary_ids = model.generate(inputs[\"input_ids\"], num_beams=8, max_length=250, early_stopping=True)\n",
    "    summaries = [tokenizer.decode(summary_id, skip_special_tokens=True) for summary_id in summary_ids]\n",
    "\n",
    "    for target, summary in zip(batch_targets, summaries):\n",
    "        rouge_scores.append(rouge_scorer.score(target, summary))\n",
    "        bleu_references.append([target.split()])\n",
    "        bleu_hypotheses.append(summary.split())\n",
    "\n",
    "rouge1_avg = sum(score[\"rouge1\"].fmeasure for score in rouge_scores) / len(rouge_scores)\n",
    "rouge2_avg = sum(score[\"rouge2\"].fmeasure for score in rouge_scores) / len(rouge_scores)\n",
    "rougeL_avg = sum(score[\"rougeL\"].fmeasure for score in rouge_scores) / len(rouge_scores)\n",
    "bleu_score = corpus_bleu(bleu_references, bleu_hypotheses)\n",
    "\n",
    "print(f\"ROUGE-1: {rouge1_avg:.4f}\")\n",
    "print(f\"ROUGE-2: {rouge2_avg:.4f}\")\n",
    "print(f\"ROUGE-L: {rougeL_avg:.4f}\")\n",
    "print(f\"BLEU: {bleu_score:.4f}\")"
   ]
  },
  {
   "cell_type": "code",
   "execution_count": null,
   "id": "270cbd8b-7791-43c5-bef0-772dbc4be190",
   "metadata": {},
   "outputs": [],
   "source": []
  }
 ],
 "metadata": {
  "kernelspec": {
   "display_name": "Python 3 (ipykernel)",
   "language": "python",
   "name": "python3"
  },
  "language_info": {
   "codemirror_mode": {
    "name": "ipython",
    "version": 3
   },
   "file_extension": ".py",
   "mimetype": "text/x-python",
   "name": "python",
   "nbconvert_exporter": "python",
   "pygments_lexer": "ipython3",
   "version": "3.10.9"
  }
 },
 "nbformat": 4,
 "nbformat_minor": 5
}

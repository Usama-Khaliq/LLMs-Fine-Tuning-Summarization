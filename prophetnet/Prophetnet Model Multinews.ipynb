{
 "cells": [
  {
   "cell_type": "code",
   "execution_count": null,
   "id": "bfdb6dd4",
   "metadata": {},
   "outputs": [],
   "source": [
    "!pip install transformers datasets evaluate rouge_score"
   ]
  },
  {
   "cell_type": "code",
   "execution_count": null,
   "id": "ca0e433f",
   "metadata": {},
   "outputs": [],
   "source": [
    "from huggingface_hub import notebook_login, login\n",
    "\n",
    "login(\"TOKEN KEY\")"
   ]
  },
  {
   "cell_type": "code",
   "execution_count": null,
   "id": "1ef96e5a",
   "metadata": {},
   "outputs": [],
   "source": [
    "from datasets import load_dataset\n",
    "\n",
    "news = load_dataset(\"multi_news\", split=\"train\")"
   ]
  },
  {
   "cell_type": "code",
   "execution_count": null,
   "id": "dc32b146",
   "metadata": {},
   "outputs": [],
   "source": [
    "news = news.train_test_split(test_size=0.2)"
   ]
  },
  {
   "cell_type": "code",
   "execution_count": null,
   "id": "c89fa3bd",
   "metadata": {},
   "outputs": [],
   "source": [
    "news[\"train\"][0]"
   ]
  },
  {
   "cell_type": "code",
   "execution_count": null,
   "id": "553191e5",
   "metadata": {},
   "outputs": [],
   "source": [
    "from transformers import AutoTokenizer\n",
    "\n",
    "checkpoint = \"microsoft/prophetnet-large-uncased\"\n",
    "tokenizer = AutoTokenizer.from_pretrained(checkpoint)"
   ]
  },
  {
   "cell_type": "code",
   "execution_count": null,
   "id": "2a21aa9d",
   "metadata": {},
   "outputs": [],
   "source": [
    "prefix = \"summarize: \"\n",
    "\n",
    "def preprocess_data(examples):\n",
    "    # Prepend prefix to each report in examples\n",
    "    documents = examples[\"article\"]\n",
    "    prepended_documents = [prefix + document for document in documents]\n",
    "\n",
    "    # Tokenize the prepended documents\n",
    "    tokenized_inputs = tokenizer(prepended_documents, max_length=1024, truncation=True)\n",
    "\n",
    "    # Tokenize the summary labels\n",
    "    summaries = examples[\"summary\"]\n",
    "    tokenized_labels = tokenizer(text_target=summaries, max_length=128, truncation=True)\n",
    "\n",
    "    # Assign the tokenized labels to the \"labels\" key in the tokenized_inputs dictionary\n",
    "    tokenized_inputs[\"labels\"] = tokenized_labels[\"input_ids\"]\n",
    "    \n",
    "    return tokenized_inputs"
   ]
  },
  {
   "cell_type": "code",
   "execution_count": null,
   "id": "5a125334",
   "metadata": {},
   "outputs": [],
   "source": [
    "tokenized_news = news.map(preprocess_function, batched=True, num_proc=100)"
   ]
  },
  {
   "cell_type": "code",
   "execution_count": null,
   "id": "a6604a46",
   "metadata": {},
   "outputs": [],
   "source": [
    "from transformers import DataCollatorForSeq2Seq\n",
    "\n",
    "data_collator = DataCollatorForSeq2Seq(tokenizer=tokenizer, model=checkpoint)"
   ]
  },
  {
   "cell_type": "code",
   "execution_count": null,
   "id": "b1ee2c76",
   "metadata": {},
   "outputs": [],
   "source": [
    "import evaluate\n",
    "\n",
    "rouge = evaluate.load(\"rouge\")\n",
    "bleu = evaluate.load(\"bleu\")"
   ]
  },
  {
   "cell_type": "code",
   "execution_count": null,
   "id": "6b6048a5",
   "metadata": {},
   "outputs": [],
   "source": [
    "import numpy as np\n",
    "from nltk.translate.bleu_score import SmoothingFunction, sentence_bleu\n",
    "from nltk.translate.meteor_score import meteor_score\n",
    "from concurrent.futures import ThreadPoolExecutor\n",
    "\n",
    "def compute_bleu_score(pred_ref_pair):\n",
    "    pred, ref = pred_ref_pair\n",
    "    smoothing = SmoothingFunction().method1 \n",
    "    return sentence_bleu([ref], pred, smoothing_function=smoothing)\n",
    "\n",
    "def metrics_evaluation(evaluation_predictions):\n",
    "    predicted_outputs, associated_labels = evaluation_predictions\n",
    "    decoded_predicted_outputs = tokenizer.batch_decode(predicted_outputs, skip_special_tokens=True)\n",
    "    processed_labels = np.where(associated_labels != -100, associated_labels, tokenizer.pad_token_id)\n",
    "    decoded_processed_labels = tokenizer.batch_decode(processed_labels, skip_special_tokens=True)\n",
    "\n",
    "    # Use Rouge to compute scores for the decoded predictions and decoded labels\n",
    "    computed_rouge_scores = rouge.compute(predictions=decoded_predicted_outputs, references=decoded_processed_labels, use_stemmer=True)\n",
    "\n",
    "    return computed_rouge_scores\n",
    "\n",
    "    # Compute BLEU scores\n",
    "    with ThreadPoolExecutor() as executor:\n",
    "        bleu_scores = list(executor.map(compute_bleu_score, zip(decoded_preds, decoded_labels)))\n",
    "    result[\"bleu\"] = np.mean(bleu_scores)\n",
    "\n",
    "    # Compute average length of generated predictions\n",
    "    prediction_lens = [np.count_nonzero(pred != tokenizer.pad_token_id) for pred in predictions]\n",
    "    result[\"gen_len\"] = np.mean(prediction_lens)\n",
    "\n",
    "    return {k: round(v, 4) for k, v in result.items()}"
   ]
  },
  {
   "cell_type": "code",
   "execution_count": null,
   "id": "77c7edb1",
   "metadata": {},
   "outputs": [],
   "source": [
    "from transformers import AutoModelForSeq2SeqLM, Seq2SeqTrainingArguments, Seq2SeqTrainer\n",
    "\n",
    "model = AutoModelForSeq2SeqLM.from_pretrained(checkpoint)"
   ]
  },
  {
   "cell_type": "code",
   "execution_count": null,
   "id": "ade01007",
   "metadata": {},
   "outputs": [],
   "source": [
    "!apt install git-lfs"
   ]
  },
  {
   "cell_type": "code",
   "execution_count": null,
   "id": "1b44ba7b",
   "metadata": {},
   "outputs": [],
   "source": [
    "training_args = Seq2SeqTrainingArguments(\n",
    "    output_dir=\"Prophetnet_multiNews_Model\",\n",
    "    evaluation_strategy=\"epoch\",\n",
    "    learning_rate=2e-5,\n",
    "    per_device_train_batch_size=14,\n",
    "    per_device_eval_batch_size=14,\n",
    "    weight_decay=0.01,\n",
    "    save_total_limit=3,\n",
    "    num_train_epochs=3,\n",
    "    predict_with_generate=True,\n",
    "    fp16=True,\n",
    "    push_to_hub=True,\n",
    ")\n",
    "\n",
    "trainer = Seq2SeqTrainer(\n",
    "    model=model,\n",
    "    args=training_args,\n",
    "    train_dataset=tokenized_news[\"train\"],\n",
    "    eval_dataset=tokenized_news[\"test\"],\n",
    "    tokenizer=tokenizer,\n",
    "    data_collator=data_collator,\n",
    "    compute_metrics=compute_metrics,\n",
    ")\n",
    "\n",
    "trainer.train()"
   ]
  }
 ],
 "metadata": {
  "kernelspec": {
   "display_name": "Python 3 (ipykernel)",
   "language": "python",
   "name": "python3"
  },
  "language_info": {
   "codemirror_mode": {
    "name": "ipython",
    "version": 3
   },
   "file_extension": ".py",
   "mimetype": "text/x-python",
   "name": "python",
   "nbconvert_exporter": "python",
   "pygments_lexer": "ipython3",
   "version": "3.11.3"
  }
 },
 "nbformat": 4,
 "nbformat_minor": 5
}

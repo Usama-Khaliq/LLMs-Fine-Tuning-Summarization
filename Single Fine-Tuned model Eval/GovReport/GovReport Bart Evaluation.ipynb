{
 "cells": [
  {
   "cell_type": "code",
   "execution_count": 1,
   "id": "5539aa3f",
   "metadata": {},
   "outputs": [],
   "source": [
    "text =\"The government is concerned about the significant and rapid increase in students undertaking some foundation years, as identified by the Independent Panel, and which has continued since 2019. This growth is concentrated in a small number of classroombased subjects, which are less expensive to teach than other provision and that, in many cases, require little or no subject-specific entry requirements or knowledge. For example, in academic year 2021/22, 51% of all foundation year students studied business and management courses (compared to 13% of first year undergraduate students), generally at low tariff providers, which deliver nearly 30% of all foundation years.8 Such courses are likely to be easy for providers to recruit to, without clear need for an additional year of study at full undergraduate fee level. The government has therefore decided to lower the maximum fee and loan limit to £5,760, in line with the highest standard funding rate for Access to HE Diplomas, for foundation year courses in classroom-based subjects, in which the rapid and disproportionate growth is focused. We will retain the maximum fee and loan limits at £9,250 for all other subjects, which include lab-based science subjects important for filling vital gaps in our workforce. We envisage this change will be implemented for academic year 2025/26. Through these changes, government will ensure that students are charged a fairer price for lower-cost provision which may not require an additional year of study while simultaneously ensuring that higher cost and strategically important provision is protected. We recognise the importance of some foundation year provision for supporting access for some learner groups but want the sector to carefully consider whether classroom-based courses require this additional year of study. We anticipate some of this provision may be withdrawn but are confident that existing alternative pathways and our drive to incentivise uptake of Higher Technical Education through the Lifelong Loan Entitlement will ensure a rich range of alternative routes for these students to progress into higher education. National State Scholarship The government wants to make sure that our efforts are focused on providing a ladder of opportunity that enables students to attain good jobs and progress in their careers. This begins with the opportunities needed to access excellent education and skills training which lead to positive outcomes. This is why government has been considering options for a national scholarship scheme for disadvantaged students. We are clear that it is of vital importance to support talented, disadvantaged students to succeed in higher education. We want to do this in the way that impacts those who will benefit most and achieve value for money. For example, we have made £276 million of student premium funding available for the 2023/24 academic year to support successful outcomes for disadvantaged students. We will give further consideration to whether a scholarship scheme or other form of support will add significant value.\""
   ]
  },
  {
   "cell_type": "code",
   "execution_count": 2,
   "id": "08021bbb",
   "metadata": {},
   "outputs": [
    {
     "name": "stdout",
     "output_type": "stream",
     "text": [
      "The government is concerned about the significant and rapid increase in students undertaking some foundation years, as identified by the Independent Panel, and which has continued since 2019. This growth is concentrated in a small number of classroombased subjects, which are less expensive to teach than other provision and that, in many cases, require little or no subject-specific entry requirements or knowledge. The government has therefore decided to lower the maximum fee and loan limit to £5,760, in line with the highest standard funding rate for Access to HE Diplomas, for foundation year courses in classroom-based subjects, in which the rapid and disproportionate growth\n"
     ]
    }
   ],
   "source": [
    "from transformers import pipeline\n",
    "\n",
    "# Initialize the summarization pipeline\n",
    "summarizer = pipeline(\n",
    "    \"summarization\",\n",
    "    model=\"usakha/Bart_GovReport_model\",\n",
    "    device=0,  # Use the first available GPU\n",
    ")\n",
    "\n",
    "# Set the maximum input length\n",
    "max_input_length = 1024\n",
    "# Set the maximum output length\n",
    "max_output_length = 128\n",
    "\n",
    "# Tokenize the input text with truncation and custom max_length\n",
    "tokens = summarizer.tokenizer(\n",
    "    text,\n",
    "    truncation=True,  # Truncate the input text if it exceeds max_length\n",
    "    max_length=max_input_length,  # Set the maximum input length\n",
    "    return_tensors=\"pt\",  # Return tensors in PyTorch format\n",
    ")\n",
    "\n",
    "# Move tokens to the GPU\n",
    "tokens = tokens.to(\"cuda:0\")\n",
    "\n",
    "# Check if the input length exceeds the model's supported length\n",
    "if tokens.input_ids.shape[1] > summarizer.model.config.max_position_embeddings:\n",
    "    raise ValueError(\n",
    "        f\"Input length ({tokens.input_ids.shape[1]}) exceeds the model's maximum supported length \"\n",
    "        f\"({summarizer.model.config.max_position_embeddings}). Please truncate the input text.\"\n",
    "    )\n",
    "\n",
    "# Generate the summary\n",
    "summary_ids = summarizer.model.generate(\n",
    "    input_ids=tokens[\"input_ids\"],\n",
    "    attention_mask=tokens[\"attention_mask\"],\n",
    "    num_beams=30,  # Set the number of beams for beam search\n",
    "    num_beam_groups=5,  # Set the number of beam groups for diverse beam search\n",
    "    diversity_penalty=0.5,  # Set the diversity penalty for diverse beam search\n",
    "    early_stopping=False,\n",
    "    max_length=max_output_length,  # Set the maximum output length\n",
    ")\n",
    "summary_text = summarizer.tokenizer.decode(summary_ids[0], skip_special_tokens=True)\n",
    "\n",
    "print(summary_text)"
   ]
  },
  {
   "cell_type": "code",
   "execution_count": 3,
   "id": "26689ade",
   "metadata": {},
   "outputs": [],
   "source": [
    "text=\"Supporting customers to get their tax right In the short term, we’re reviewing how we deploy our resources to ensure we maximise value for the taxpayer – and this means changing the way we meet customer needs. I’m disappointed that we didn’t hit our key customer service standards this year and I recognise the inconvenience some customers will have experienced at times. We’re working hard to improve all our service levels. For those customers who need direct support through our post services, I’m pleased that in 2022 to 2023 we made a large improvement in the proportion of customer correspondence that we turn around within 15 working days, increasing to 72.7% from 45.5% in 2021 to 2022. We’re determined to do all we can to be responsive and to help customers get things right – but that has to mean migrating an ever-increasing number of our customers onto our digital services and away from our phone lines so we are in a much better position to provide specialist support to those that need it, while improving the customer experience. As we make these changes, the standards set out in our Charter will remain at the heart of what we do. We’re also helping customers to find the answers they need more quickly and easily. For example, customers using our digital assistant are automatically finding the information they are looking for in more than two thirds of cases, with the remainder being handled by HMRC webchat advisers, and our new telephony platform is continuously improving the way we handle phone calls. We’ve also introduced an online performance dashboard, where customers can check current service levels and processing times, reducing the need for progress chasing calls. Ensuring the right tax gets paid To ensure everyone pays the right tax, we have a well-established compliance strategy with 3 elements: preventing non-compliance, promoting good compliance, and being robust in our response to those who bend or break the rules. The changes we’re making to modernise our services, which I’ve described above, are also vital to this strategy. They aren’t just about improving customer experience, they also help to ensure customers pay the right tax at the outset, rather than fixing problems after they happen. For example, the move to businesses submitting their VAT returns using Making Tax Digital-compatible software from April 2022 is helping to reduce opportunities for calculation and transposition errors. We’re also using more targeted campaigns, prompts and nudges, such as highlighting to customers if they enter data that doesn’t align with what we expect. This is all vital to maintaining a low tax gap while achieving ever greater cost efficiency. And we’re building on what is already a strong record: each year, around 95% of the tax that’s due gets paid, and the vast majority of our customers pay in full and on time. In 2022 to 2023, we delivered £34 billion of compliance yield – our term for money that would have been lost to the Exchequer if not for our compliance work. While it’s lower than we aimed for this year, it’s higher than the 2 previous financial years. Of course, protecting taxpayers from those who bend or break the rules will always remain a vital part of a trusted tax system. We’ve already invested in over 4,000 new compliance officers in 2021 to 2022. We’re also focusing our criminal investigations on serious frauds – and we’ve seen the average value of our criminal cases rise to £6.2 million, almost 3 times what it was in 2016 to 2017.\""
   ]
  },
  {
   "cell_type": "code",
   "execution_count": 4,
   "id": "729cb270",
   "metadata": {},
   "outputs": [
    {
     "name": "stdout",
     "output_type": "stream",
     "text": [
      "Supporting customers to get their tax right In the short term, we are reviewing how we deploy our resources to ensure we maximise value for the taxpayer – and this means changing the way we meet customer needs. I’m disappointed that we didn’t hit our key customer service standards this year and I recognise the inconvenience some customers will have experienced at times. We’re determined to do all we can to be responsive and to help customers get things right – but that has to mean migrating an ever-increasing number of our customers onto our digital services and away from our phone lines so we are in a much\n"
     ]
    }
   ],
   "source": [
    "from transformers import pipeline\n",
    "\n",
    "# Initialize the summarization pipeline\n",
    "summarizer = pipeline(\n",
    "    \"summarization\",\n",
    "    model=\"usakha/Bart_GovReport_model\",\n",
    "    device=0,  # Use the first available GPU\n",
    ")\n",
    "\n",
    "# Set the maximum input length\n",
    "max_input_length = 1024\n",
    "# Set the maximum output length\n",
    "max_output_length = 128\n",
    "\n",
    "# Tokenize the input text with truncation and custom max_length\n",
    "tokens = summarizer.tokenizer(\n",
    "    text,\n",
    "    truncation=True,  # Truncate the input text if it exceeds max_length\n",
    "    max_length=max_input_length,  # Set the maximum input length\n",
    "    return_tensors=\"pt\",  # Return tensors in PyTorch format\n",
    ")\n",
    "\n",
    "# Move tokens to the GPU\n",
    "tokens = tokens.to(\"cuda:0\")\n",
    "\n",
    "# Check if the input length exceeds the model's supported length\n",
    "if tokens.input_ids.shape[1] > summarizer.model.config.max_position_embeddings:\n",
    "    raise ValueError(\n",
    "        f\"Input length ({tokens.input_ids.shape[1]}) exceeds the model's maximum supported length \"\n",
    "        f\"({summarizer.model.config.max_position_embeddings}). Please truncate the input text.\"\n",
    "    )\n",
    "\n",
    "# Generate the summary\n",
    "summary_ids = summarizer.model.generate(\n",
    "    input_ids=tokens[\"input_ids\"],\n",
    "    attention_mask=tokens[\"attention_mask\"],\n",
    "    num_beams=30,  # Set the number of beams for beam search\n",
    "    num_beam_groups=5,  # Set the number of beam groups for diverse beam search\n",
    "    diversity_penalty=0.5,  # Set the diversity penalty for diverse beam search\n",
    "    early_stopping=False,\n",
    "    max_length=max_output_length,  # Set the maximum output length\n",
    ")\n",
    "summary_text = summarizer.tokenizer.decode(summary_ids[0], skip_special_tokens=True)\n",
    "\n",
    "print(summary_text)"
   ]
  },
  {
   "cell_type": "code",
   "execution_count": 5,
   "id": "100bb3c3",
   "metadata": {},
   "outputs": [],
   "source": [
    "text=\"The CAA fulfils a critical role as the UK’s aviation and aerospace regulator. It is regarded as ‘world leading’ in its aviation safety role by other major International Aviation Regulators and others and received an outstanding review from the recent safety audit carried out by the ICAO. Overall, the CAA’s performance as a safety and security regulator is exemplary. The CAA has an important role in respect of the safety regulation of emerging technologies and space flight. It also has an important role to play in supporting the DfT in addressing the challenge of sustainability and the move to jet zero. While some other aviation regulators are a part of government, notably the Federal Aviation Administration (FAA), the US regulator, the overwhelming feedback is that the CAA benefits from its status as an independent entity and we recommend that CAA should continue in its current legal form. However, some stakeholders are confused as to the respective roles of the CAA and the DfT. Some of the concerns raised during the review about the role of the CAA appear to reflect a misunderstanding of the role, responsibilities and powers of the CAA. Further, there was some limited feedback that, on occasion, the views of the CAA and those of the DfT may not be fully aligned. We have made some recommendations about changes to the CAA framework document, which governs the relationship between the CAA and the DfT. We believe that these should substantially address these issues and will help reinforce the CAA’s position as an independent regulator that works closely with the government. It is important to note that the recommended changes to the framework document are not merely an administrative convenience. They are designed to help facilitate the continuous improvement of the CAA and ensure it remains a world leading aviation and aerospace regulator able to cope with new and emerging challenges. The recommendations that are enabled by changes to the framework document, particularly that the CAA should comply with Managing public money, should increase the democratic accountability of the CAA. It should also help strengthen the relationship between the CAA and the DfT, with better sharing of financial information, and give greater assurance that the CAA is delivering value for money. The aviation sector and the CAA faced an unprecedented challenge from the COVID-19 pandemic. The DfT provided financial support for the CAA. Rightly, the CAA’s focus was on the sector and not its own internal organisation. However, the board has recognised that the CAA now needs to focus on being forward-looking and has endorsed the principles of an efficiency and reinvestment plan. This sets out how the CAA will achieve a 5% reduction in like-for-like costs over a 3-year period to both reinvest in a customer service and modernisation plan and also deliver CPIH-1% changes in the CAA’s statutory charges. The efficiency and reinvestment plan is challenging and delivers the 5% efficiency required by the Cabinet Office. Following detailed consideration, the board concluded that any further reduction in costs would damage the CAA and the services it provides, and we concur with this conclusion. The efficiency and reinvestment plan, and related customer service and modernisation plan, will involve a significant upgrade in the CAA’s IT and enable most processes to be dealt with online, significantly reducing the volume of non-automated, manual and spreadsheet-based processes. This will be the most significant process transformation programme ever carried out by the CAA and appropriate governance will be important. The review makes a number of recommendations in respect of these plans and related activities. The CAA has navigated the challenges and opportunities arising from the UK leaving the European Union and the need to rebuild capabilities that were previously handled by the European Union Aviation Safety Agency (EASA). Feedback, including from other leading international aviation authorities, is that the CAA has handled this well. They have suggested that outside EASA, the CAA can be more responsive as it no longer needs the agreement of other countries before making decisions and that this could be an advantage in regulating new and emerging technologies. There are challenges in regulating safety for new and emerging technologies, which will also include developments to traditional aviation to address sustainability, particularly as regulation needs to evolve alongside the changes in technologies. These are different challenges to those facing traditional aviation and the CAA has recognised this. We have made some recommendations about the processes for the regulation of new and emerging technologies which are intended to enable the CAA to be world leading in this area as it is in the safety regulation of traditional aviation. There was a note of caution from some, particularly, but not solely, General Aviation, that the CAA does not make changes from those regulations that applied when it was part of EASA without being clear why these changes are needed and that new regulations continue to be proportional to the level of risk. Our recommendations on greater engagement with CAA customers, which, as noted in the definitions, includes freight as well as passengers, should help ensure there is a good understanding of the reasons for any such changes. While many stakeholders, as well as the largest CAA customers, were positive about their relationship with the CAA this view was not universal and the review makes a number of recommendations about engagement with aviation consumers, CAA customers and stakeholders generally. Alongside the CAA’s new consumer strategy, which is very much welcomed, this should help the CAA be more outward-facing and give greater confidence to all stakeholders. There were examples of great initiatives at the CAA, and we were particularly impressed by the creation of the Skyline Board, which engages staff who work for the CAA directly with members of the board. This gives us confidence that the CAA is able to develop new initiatives and that it has committed and engaged staff. We were also encouraged by the work that the CAA is doing to support the aviation and aerospace sector in addressing the challenges of sustainability. In particular, the CAA has established a sustainability panel with a very impressive membership, and we would encourage the CAA to make maximum use of this expertise. We note that the CAA has a supportive role in this work, which is led by DfT, and that the CAA can only operate within its existing powers and recognising its role as a regulator. The Chair of the CAA has engaged actively in this review and initiated a number of changes in the CAA to reflect the emerging findings of the review. Work has already started to implement many of the final recommendations of the review. With the recent resignations of the Chief Executive Officer (CEO) and Chief Operating Officer (COO), and the possibility that there will be other changes to the membership of the Board as the terms of some Non-Executive Directors (NEDs) come to an end, it is important that the CAA has a highly engaged, well-qualified Chair. We set out a number of high-level recommendations which reflect these matters and: the recurrent themes from our meetings with the CAA’s customers a wide range of stakeholders the response to the call for evidence These have all been shared with the board of the CAA who have confirmed that they are both implementable and a positive contribution to the CAA’s capability and effectiveness. They have also been shared with the leadership of DfT and the DfT team responsible for the sponsorship of the CAA, who have also confirmed they support the recommendations. We have indicated the benefits to the CAA and the DfT from implementing these recommendations and have given high-level feedback on the evidence we obtained that led us to make these recommendations. The aviation and aerospace sector has new opportunities from technology as well as environmental challenges and it will benefit from having a regulator that is able to adapt to these opportunities and challenges. We believe that a strong, independent CAA with a positive and mutually supportive relationship with the DfT benefits not only the CAA and the DfT but will also help the aviation and aerospace sector and enable it to continue to be a significant contributor to the UK economy.\""
   ]
  },
  {
   "cell_type": "code",
   "execution_count": 6,
   "id": "5eb87029",
   "metadata": {},
   "outputs": [
    {
     "name": "stdout",
     "output_type": "stream",
     "text": [
      "The CAA fulfils a critical role as the UK's aviation and aerospace regulator. Overall, the CAA's performance as a safety and security regulator is exemplary. It is regarded as ‘world leading’ in its aviation safety role by other major International Aviation Regulators and others and received an outstanding review from the recent safety audit carried out by the ICAO. It also has an important role to play in supporting the DfT in addressing the challenge of sustainability and the move to jet zero. The CAA has navigated the challenges and opportunities arising from the UK leaving the European Union and the need to rebuild\n"
     ]
    }
   ],
   "source": [
    "from transformers import pipeline\n",
    "\n",
    "# Initialize the summarization pipeline\n",
    "summarizer = pipeline(\n",
    "    \"summarization\",\n",
    "    model=\"usakha/Bart_GovReport_model\",\n",
    "    device=0,  # Use the first available GPU\n",
    ")\n",
    "\n",
    "# Set the maximum input length\n",
    "max_input_length = 1024\n",
    "# Set the maximum output length\n",
    "max_output_length = 128\n",
    "\n",
    "# Tokenize the input text with truncation and custom max_length\n",
    "tokens = summarizer.tokenizer(\n",
    "    text,\n",
    "    truncation=True,  # Truncate the input text if it exceeds max_length\n",
    "    max_length=max_input_length,  # Set the maximum input length\n",
    "    return_tensors=\"pt\",  # Return tensors in PyTorch format\n",
    ")\n",
    "\n",
    "# Move tokens to the GPU\n",
    "tokens = tokens.to(\"cuda:0\")\n",
    "\n",
    "# Check if the input length exceeds the model's supported length\n",
    "if tokens.input_ids.shape[1] > summarizer.model.config.max_position_embeddings:\n",
    "    raise ValueError(\n",
    "        f\"Input length ({tokens.input_ids.shape[1]}) exceeds the model's maximum supported length \"\n",
    "        f\"({summarizer.model.config.max_position_embeddings}). Please truncate the input text.\"\n",
    "    )\n",
    "\n",
    "# Generate the summary\n",
    "summary_ids = summarizer.model.generate(\n",
    "    input_ids=tokens[\"input_ids\"],\n",
    "    attention_mask=tokens[\"attention_mask\"],\n",
    "    num_beams=30,  # Set the number of beams for beam search\n",
    "    num_beam_groups=5,  # Set the number of beam groups for diverse beam search\n",
    "    diversity_penalty=0.5,  # Set the diversity penalty for diverse beam search\n",
    "    early_stopping=False,\n",
    "    max_length=max_output_length,  # Set the maximum output length\n",
    ")\n",
    "summary_text = summarizer.tokenizer.decode(summary_ids[0], skip_special_tokens=True)\n",
    "\n",
    "print(summary_text)"
   ]
  },
  {
   "cell_type": "code",
   "execution_count": null,
   "id": "8e8c813b",
   "metadata": {},
   "outputs": [],
   "source": []
  }
 ],
 "metadata": {
  "kernelspec": {
   "display_name": "Python 3 (ipykernel)",
   "language": "python",
   "name": "python3"
  },
  "language_info": {
   "codemirror_mode": {
    "name": "ipython",
    "version": 3
   },
   "file_extension": ".py",
   "mimetype": "text/x-python",
   "name": "python",
   "nbconvert_exporter": "python",
   "pygments_lexer": "ipython3",
   "version": "3.11.3"
  }
 },
 "nbformat": 4,
 "nbformat_minor": 5
}
